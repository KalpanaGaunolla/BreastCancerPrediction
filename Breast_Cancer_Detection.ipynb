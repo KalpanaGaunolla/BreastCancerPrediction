{
 "cells": [
  {
   "cell_type": "markdown",
   "id": "secure-switzerland",
   "metadata": {},
   "source": [
    "### Step by step guide to create Breast Cancer Detection using Machine Learning algorithm and deploy it on Heroku with Flask"
   ]
  },
  {
   "cell_type": "markdown",
   "id": "dental-julian",
   "metadata": {},
   "source": [
    "Major steps to be followed:\n",
    "\n",
    "1. Problem statement\n",
    "2. Data collection\n",
    "3. Exploratory data analysis\n",
    "4. Feature Engineering\n",
    "5. Feature Selection\n",
    "6. Machine Learning Model Training\n",
    "7. Model Testing\n",
    "8. Deployment of final model on Heroku via Flask"
   ]
  },
  {
   "cell_type": "markdown",
   "id": "copyrighted-seating",
   "metadata": {},
   "source": [
    "### 1. Problem statement"
   ]
  },
  {
   "cell_type": "markdown",
   "id": "vocal-walnut",
   "metadata": {},
   "source": [
    "Breast cancer is cancer that forms in the cells of the breasts. After skin cancer, breast cancer is the most common cancer diagnosed in women in the United States. Breast cancer can occur in both men and women, but it's far more common in women. Early detection can helps personalized approach to treatment and a better understanding of the disease, which results in increase in survival rate. Mammography imaging technique is helping to detect early stage of tumors in the recent days, but advanced technologies like Artificial Intelligence and Machine Learning techniques can detect and sense cancer cells 5 times smaller than the what has been doing present, and improves the accuracy of the diagnosis. Here, I will use the Machine Learning algorithm on breast cancer tumor information dataset to implement breast cancer detection."
   ]
  },
  {
   "cell_type": "code",
   "execution_count": 10,
   "id": "martial-mistress",
   "metadata": {},
   "outputs": [],
   "source": [
    "#Import all necessary libraries"
   ]
  },
  {
   "cell_type": "code",
   "execution_count": 1,
   "id": "choice-peoples",
   "metadata": {},
   "outputs": [],
   "source": [
    "import pandas as pd\n",
    "import numpy as np\n",
    "import matplotlib.pyplot as plt\n",
    "import seaborn as sns"
   ]
  },
  {
   "cell_type": "markdown",
   "id": "saving-adapter",
   "metadata": {},
   "source": [
    "### 2. Data collection"
   ]
  },
  {
   "cell_type": "code",
   "execution_count": 2,
   "id": "greek-disposal",
   "metadata": {},
   "outputs": [
    {
     "data": {
      "text/html": [
       "<div>\n",
       "<style scoped>\n",
       "    .dataframe tbody tr th:only-of-type {\n",
       "        vertical-align: middle;\n",
       "    }\n",
       "\n",
       "    .dataframe tbody tr th {\n",
       "        vertical-align: top;\n",
       "    }\n",
       "\n",
       "    .dataframe thead th {\n",
       "        text-align: right;\n",
       "    }\n",
       "</style>\n",
       "<table border=\"1\" class=\"dataframe\">\n",
       "  <thead>\n",
       "    <tr style=\"text-align: right;\">\n",
       "      <th></th>\n",
       "      <th>Age</th>\n",
       "      <th>BMI</th>\n",
       "      <th>Glucose</th>\n",
       "      <th>Insulin</th>\n",
       "      <th>HOMA</th>\n",
       "      <th>Leptin</th>\n",
       "      <th>Adiponectin</th>\n",
       "      <th>Resistin</th>\n",
       "      <th>MCP.1</th>\n",
       "      <th>Classification</th>\n",
       "    </tr>\n",
       "  </thead>\n",
       "  <tbody>\n",
       "    <tr>\n",
       "      <th>0</th>\n",
       "      <td>48</td>\n",
       "      <td>23.500000</td>\n",
       "      <td>70</td>\n",
       "      <td>2.707</td>\n",
       "      <td>0.467409</td>\n",
       "      <td>8.8071</td>\n",
       "      <td>9.702400</td>\n",
       "      <td>7.99585</td>\n",
       "      <td>417.114</td>\n",
       "      <td>1</td>\n",
       "    </tr>\n",
       "    <tr>\n",
       "      <th>1</th>\n",
       "      <td>83</td>\n",
       "      <td>20.690495</td>\n",
       "      <td>92</td>\n",
       "      <td>3.115</td>\n",
       "      <td>0.706897</td>\n",
       "      <td>8.8438</td>\n",
       "      <td>5.429285</td>\n",
       "      <td>4.06405</td>\n",
       "      <td>468.786</td>\n",
       "      <td>1</td>\n",
       "    </tr>\n",
       "    <tr>\n",
       "      <th>2</th>\n",
       "      <td>82</td>\n",
       "      <td>23.124670</td>\n",
       "      <td>91</td>\n",
       "      <td>4.498</td>\n",
       "      <td>1.009651</td>\n",
       "      <td>17.9393</td>\n",
       "      <td>22.432040</td>\n",
       "      <td>9.27715</td>\n",
       "      <td>554.697</td>\n",
       "      <td>1</td>\n",
       "    </tr>\n",
       "    <tr>\n",
       "      <th>3</th>\n",
       "      <td>68</td>\n",
       "      <td>21.367521</td>\n",
       "      <td>77</td>\n",
       "      <td>3.226</td>\n",
       "      <td>0.612725</td>\n",
       "      <td>9.8827</td>\n",
       "      <td>7.169560</td>\n",
       "      <td>12.76600</td>\n",
       "      <td>928.220</td>\n",
       "      <td>1</td>\n",
       "    </tr>\n",
       "    <tr>\n",
       "      <th>4</th>\n",
       "      <td>86</td>\n",
       "      <td>21.111111</td>\n",
       "      <td>92</td>\n",
       "      <td>3.549</td>\n",
       "      <td>0.805386</td>\n",
       "      <td>6.6994</td>\n",
       "      <td>4.819240</td>\n",
       "      <td>10.57635</td>\n",
       "      <td>773.920</td>\n",
       "      <td>1</td>\n",
       "    </tr>\n",
       "  </tbody>\n",
       "</table>\n",
       "</div>"
      ],
      "text/plain": [
       "   Age        BMI  Glucose  Insulin      HOMA   Leptin  Adiponectin  Resistin  \\\n",
       "0   48  23.500000       70    2.707  0.467409   8.8071     9.702400   7.99585   \n",
       "1   83  20.690495       92    3.115  0.706897   8.8438     5.429285   4.06405   \n",
       "2   82  23.124670       91    4.498  1.009651  17.9393    22.432040   9.27715   \n",
       "3   68  21.367521       77    3.226  0.612725   9.8827     7.169560  12.76600   \n",
       "4   86  21.111111       92    3.549  0.805386   6.6994     4.819240  10.57635   \n",
       "\n",
       "     MCP.1  Classification  \n",
       "0  417.114               1  \n",
       "1  468.786               1  \n",
       "2  554.697               1  \n",
       "3  928.220               1  \n",
       "4  773.920               1  "
      ]
     },
     "execution_count": 2,
     "metadata": {},
     "output_type": "execute_result"
    }
   ],
   "source": [
    "#Import dataset from Kaggle\n",
    "df=pd.read_csv('dataR2.csv')\n",
    "df.head()"
   ]
  },
  {
   "cell_type": "code",
   "execution_count": 3,
   "id": "japanese-french",
   "metadata": {},
   "outputs": [
    {
     "data": {
      "text/plain": [
       "(116, 10)"
      ]
     },
     "execution_count": 3,
     "metadata": {},
     "output_type": "execute_result"
    }
   ],
   "source": [
    "df.shape"
   ]
  },
  {
   "cell_type": "markdown",
   "id": "municipal-extraction",
   "metadata": {},
   "source": [
    "### 3. Exploratory Data Analysis"
   ]
  },
  {
   "cell_type": "code",
   "execution_count": 5,
   "id": "atlantic-positive",
   "metadata": {},
   "outputs": [
    {
     "name": "stdout",
     "output_type": "stream",
     "text": [
      "<class 'pandas.core.frame.DataFrame'>\n",
      "RangeIndex: 116 entries, 0 to 115\n",
      "Data columns (total 10 columns):\n",
      " #   Column          Non-Null Count  Dtype  \n",
      "---  ------          --------------  -----  \n",
      " 0   Age             116 non-null    int64  \n",
      " 1   BMI             116 non-null    float64\n",
      " 2   Glucose         116 non-null    int64  \n",
      " 3   Insulin         116 non-null    float64\n",
      " 4   HOMA            116 non-null    float64\n",
      " 5   Leptin          116 non-null    float64\n",
      " 6   Adiponectin     116 non-null    float64\n",
      " 7   Resistin        116 non-null    float64\n",
      " 8   MCP.1           116 non-null    float64\n",
      " 9   Classification  116 non-null    int64  \n",
      "dtypes: float64(7), int64(3)\n",
      "memory usage: 9.2 KB\n"
     ]
    }
   ],
   "source": [
    "#Check datatypes of variables\n",
    "df.info()"
   ]
  },
  {
   "cell_type": "markdown",
   "id": "olive-former",
   "metadata": {},
   "source": [
    "From the above output, we can observe that dataset contains only numerical datatypes, without categorical type and null-values"
   ]
  },
  {
   "cell_type": "code",
   "execution_count": 8,
   "id": "ruled-explanation",
   "metadata": {},
   "outputs": [
    {
     "data": {
      "text/html": [
       "<div>\n",
       "<style scoped>\n",
       "    .dataframe tbody tr th:only-of-type {\n",
       "        vertical-align: middle;\n",
       "    }\n",
       "\n",
       "    .dataframe tbody tr th {\n",
       "        vertical-align: top;\n",
       "    }\n",
       "\n",
       "    .dataframe thead th {\n",
       "        text-align: right;\n",
       "    }\n",
       "</style>\n",
       "<table border=\"1\" class=\"dataframe\">\n",
       "  <thead>\n",
       "    <tr style=\"text-align: right;\">\n",
       "      <th></th>\n",
       "      <th>Age</th>\n",
       "      <th>BMI</th>\n",
       "      <th>Glucose</th>\n",
       "      <th>Insulin</th>\n",
       "      <th>HOMA</th>\n",
       "      <th>Leptin</th>\n",
       "      <th>Adiponectin</th>\n",
       "      <th>Resistin</th>\n",
       "      <th>MCP.1</th>\n",
       "      <th>Classification</th>\n",
       "    </tr>\n",
       "  </thead>\n",
       "  <tbody>\n",
       "    <tr>\n",
       "      <th>count</th>\n",
       "      <td>116.000000</td>\n",
       "      <td>116.000000</td>\n",
       "      <td>116.000000</td>\n",
       "      <td>116.000000</td>\n",
       "      <td>116.000000</td>\n",
       "      <td>116.000000</td>\n",
       "      <td>116.000000</td>\n",
       "      <td>116.000000</td>\n",
       "      <td>116.000000</td>\n",
       "      <td>116.000000</td>\n",
       "    </tr>\n",
       "    <tr>\n",
       "      <th>mean</th>\n",
       "      <td>57.301724</td>\n",
       "      <td>27.582111</td>\n",
       "      <td>97.793103</td>\n",
       "      <td>10.012086</td>\n",
       "      <td>2.694988</td>\n",
       "      <td>26.615080</td>\n",
       "      <td>10.180874</td>\n",
       "      <td>14.725966</td>\n",
       "      <td>534.647000</td>\n",
       "      <td>1.551724</td>\n",
       "    </tr>\n",
       "    <tr>\n",
       "      <th>std</th>\n",
       "      <td>16.112766</td>\n",
       "      <td>5.020136</td>\n",
       "      <td>22.525162</td>\n",
       "      <td>10.067768</td>\n",
       "      <td>3.642043</td>\n",
       "      <td>19.183294</td>\n",
       "      <td>6.843341</td>\n",
       "      <td>12.390646</td>\n",
       "      <td>345.912663</td>\n",
       "      <td>0.499475</td>\n",
       "    </tr>\n",
       "    <tr>\n",
       "      <th>min</th>\n",
       "      <td>24.000000</td>\n",
       "      <td>18.370000</td>\n",
       "      <td>60.000000</td>\n",
       "      <td>2.432000</td>\n",
       "      <td>0.467409</td>\n",
       "      <td>4.311000</td>\n",
       "      <td>1.656020</td>\n",
       "      <td>3.210000</td>\n",
       "      <td>45.843000</td>\n",
       "      <td>1.000000</td>\n",
       "    </tr>\n",
       "    <tr>\n",
       "      <th>25%</th>\n",
       "      <td>45.000000</td>\n",
       "      <td>22.973205</td>\n",
       "      <td>85.750000</td>\n",
       "      <td>4.359250</td>\n",
       "      <td>0.917966</td>\n",
       "      <td>12.313675</td>\n",
       "      <td>5.474283</td>\n",
       "      <td>6.881763</td>\n",
       "      <td>269.978250</td>\n",
       "      <td>1.000000</td>\n",
       "    </tr>\n",
       "    <tr>\n",
       "      <th>50%</th>\n",
       "      <td>56.000000</td>\n",
       "      <td>27.662416</td>\n",
       "      <td>92.000000</td>\n",
       "      <td>5.924500</td>\n",
       "      <td>1.380939</td>\n",
       "      <td>20.271000</td>\n",
       "      <td>8.352692</td>\n",
       "      <td>10.827740</td>\n",
       "      <td>471.322500</td>\n",
       "      <td>2.000000</td>\n",
       "    </tr>\n",
       "    <tr>\n",
       "      <th>75%</th>\n",
       "      <td>71.000000</td>\n",
       "      <td>31.241442</td>\n",
       "      <td>102.000000</td>\n",
       "      <td>11.189250</td>\n",
       "      <td>2.857787</td>\n",
       "      <td>37.378300</td>\n",
       "      <td>11.815970</td>\n",
       "      <td>17.755207</td>\n",
       "      <td>700.085000</td>\n",
       "      <td>2.000000</td>\n",
       "    </tr>\n",
       "    <tr>\n",
       "      <th>max</th>\n",
       "      <td>89.000000</td>\n",
       "      <td>38.578759</td>\n",
       "      <td>201.000000</td>\n",
       "      <td>58.460000</td>\n",
       "      <td>25.050342</td>\n",
       "      <td>90.280000</td>\n",
       "      <td>38.040000</td>\n",
       "      <td>82.100000</td>\n",
       "      <td>1698.440000</td>\n",
       "      <td>2.000000</td>\n",
       "    </tr>\n",
       "  </tbody>\n",
       "</table>\n",
       "</div>"
      ],
      "text/plain": [
       "              Age         BMI     Glucose     Insulin        HOMA      Leptin  \\\n",
       "count  116.000000  116.000000  116.000000  116.000000  116.000000  116.000000   \n",
       "mean    57.301724   27.582111   97.793103   10.012086    2.694988   26.615080   \n",
       "std     16.112766    5.020136   22.525162   10.067768    3.642043   19.183294   \n",
       "min     24.000000   18.370000   60.000000    2.432000    0.467409    4.311000   \n",
       "25%     45.000000   22.973205   85.750000    4.359250    0.917966   12.313675   \n",
       "50%     56.000000   27.662416   92.000000    5.924500    1.380939   20.271000   \n",
       "75%     71.000000   31.241442  102.000000   11.189250    2.857787   37.378300   \n",
       "max     89.000000   38.578759  201.000000   58.460000   25.050342   90.280000   \n",
       "\n",
       "       Adiponectin    Resistin        MCP.1  Classification  \n",
       "count   116.000000  116.000000   116.000000      116.000000  \n",
       "mean     10.180874   14.725966   534.647000        1.551724  \n",
       "std       6.843341   12.390646   345.912663        0.499475  \n",
       "min       1.656020    3.210000    45.843000        1.000000  \n",
       "25%       5.474283    6.881763   269.978250        1.000000  \n",
       "50%       8.352692   10.827740   471.322500        2.000000  \n",
       "75%      11.815970   17.755207   700.085000        2.000000  \n",
       "max      38.040000   82.100000  1698.440000        2.000000  "
      ]
     },
     "execution_count": 8,
     "metadata": {},
     "output_type": "execute_result"
    }
   ],
   "source": [
    "#A quick statistical summary of the dataset\n",
    "df.describe()"
   ]
  },
  {
   "cell_type": "markdown",
   "id": "acquired-teacher",
   "metadata": {},
   "source": [
    "We can see that count of each variables along with the mean, standard deviation, minimum and maximum values."
   ]
  },
  {
   "cell_type": "code",
   "execution_count": 11,
   "id": "atomic-transcription",
   "metadata": {},
   "outputs": [
    {
     "data": {
      "text/plain": [
       "Age               0\n",
       "BMI               0\n",
       "Glucose           0\n",
       "Insulin           0\n",
       "HOMA              0\n",
       "Leptin            0\n",
       "Adiponectin       0\n",
       "Resistin          0\n",
       "MCP.1             0\n",
       "Classification    0\n",
       "dtype: int64"
      ]
     },
     "execution_count": 11,
     "metadata": {},
     "output_type": "execute_result"
    }
   ],
   "source": [
    "#Will check missing values\n",
    "df.isnull().sum()"
   ]
  },
  {
   "cell_type": "markdown",
   "id": "narrow-alexander",
   "metadata": {},
   "source": [
    "It's clear that dataset doen't contain any null values"
   ]
  },
  {
   "cell_type": "code",
   "execution_count": 14,
   "id": "informed-technical",
   "metadata": {},
   "outputs": [
    {
     "data": {
      "image/png": "[encoded data removed]",
      "text/plain": [
       "<Figure size 1080x1296 with 12 Axes>"
      ]
     },
     "metadata": {
      "needs_background": "light"
     },
     "output_type": "display_data"
    }
   ],
   "source": [
    "#Data visualization\n",
    "#Distribution of each variable\n",
    "\n",
    "def show_hist(x):\n",
    "    plt.rcParams[\"figure.figsize\"]=15,18\n",
    "    x.hist()\n",
    "\n",
    "show_hist(df)"
   ]
  },
  {
   "cell_type": "markdown",
   "id": "potential-journalist",
   "metadata": {},
   "source": [
    "From the above plots, it is clear that variables are not following normal distribution"
   ]
  },
  {
   "cell_type": "code",
   "execution_count": 16,
   "id": "sapphire-pharmacology",
   "metadata": {},
   "outputs": [
    {
     "data": {
      "text/plain": [
       "2    64\n",
       "1    52\n",
       "Name: Classification, dtype: int64"
      ]
     },
     "execution_count": 16,
     "metadata": {},
     "output_type": "execute_result"
    }
   ],
   "source": [
    "df['Classification'].value_counts()"
   ]
  },
  {
   "cell_type": "code",
   "execution_count": 15,
   "id": "improved-cologne",
   "metadata": {},
   "outputs": [
    {
     "data": {
      "text/plain": [
       "<AxesSubplot:>"
      ]
     },
     "execution_count": 15,
     "metadata": {},
     "output_type": "execute_result"
    },
    {
     "data": {
      "image/png": "[encoded data removed]",
      "text/plain": [
       "<Figure size 1080x1296 with 1 Axes>"
      ]
     },
     "metadata": {
      "needs_background": "light"
     },
     "output_type": "display_data"
    }
   ],
   "source": [
    "#Check the output variable distribution\n",
    "df['Classification'].value_counts().plot(kind='bar',color=['blue','yellow'])"
   ]
  },
  {
   "cell_type": "markdown",
   "id": "incoming-hollow",
   "metadata": {},
   "source": [
    "We can observe that 64 people are patients and 52 are having healthy control over it. So, dataset is balanced."
   ]
  },
  {
   "cell_type": "code",
   "execution_count": 19,
   "id": "homeless-correction",
   "metadata": {},
   "outputs": [
    {
     "name": "stdout",
     "output_type": "stream",
     "text": [
      "===============\n",
      "Age:[48 83 82 68 86 49 89 76 73 75 34 29 25 24 38 44 47 61 64 32 36 35 54 45\n",
      " 50 66 53 28 43 51 67 69 60 77 71 78 85 42 62 59 46 72 55 41 81 65 58 40\n",
      " 52 74 57]\n",
      "===============\n",
      "BMI:[23.5        20.69049454 23.12467037 21.36752137 21.11111111 22.85445769\n",
      " 22.7        23.8        22.         23.         21.47       23.01\n",
      " 22.86       18.67       23.34       20.76       22.03       32.03895937\n",
      " 34.5297228  36.51263743 28.57667585 31.97501487 32.27078777 30.27681661\n",
      " 30.48315806 37.03560819 38.57875854 31.44654088 35.2507611  34.17489\n",
      " 36.21227888 36.7901662  35.85581466 34.42217362 27.68877813 29.60676726\n",
      " 31.2385898  35.09270153 26.34929208 35.58792924 29.2184076  27.2\n",
      " 27.3        32.5        30.3        27.7        25.7        25.3\n",
      " 29.4        26.6        27.1        25.9        21.30394858 20.82999519\n",
      " 20.9566075  24.24242424 21.35991456 21.08281329 19.13265306 22.65625\n",
      " 22.4996371  21.51385851 22.89281998 22.83287935 23.14049587 24.21875\n",
      " 22.22222222 20.83       19.56       20.26       24.74       18.37\n",
      " 23.62       22.21       26.5625     31.25       26.66666667 26.6727633\n",
      " 28.67262608 31.64036818 32.46191136 25.51020408 29.296875   29.666548\n",
      " 28.125      29.15451895 30.83653053 31.21748179 30.8012487  31.23140988\n",
      " 29.77777778 27.88761707 27.63605442 27.91551882 28.44444444 28.65013774\n",
      " 30.91557669 29.13631634 34.83814777 37.109375   29.38475666 33.18\n",
      " 35.56       30.48       36.05       26.85       26.84       32.05\n",
      " 25.59       27.18      ]\n",
      "===============\n",
      "Glucose:[ 70  92  91  77 118  97  83  78  82  88  75  86  84  85  95  87  90 106\n",
      "  80 101  89  79 103  76  94  93 102  60  96 110  74 112  98 116 114 105\n",
      " 201 100  99 196 199 139 128 134 131 104 108 152 119 138]\n",
      "===============\n",
      "Insulin:[ 2.707  3.115  4.498  3.226  3.549  4.69   6.47   3.35   4.952  3.469\n",
      "  5.663  4.09   6.107  5.782  7.553  2.869 18.077  4.427 14.026  4.345\n",
      "  4.53   5.81   4.376  5.537  6.76   6.703  9.245  6.817  6.59  15.533\n",
      " 10.175  8.576 23.194  3.855  5.819  4.181  5.646  5.138  3.881  5.376\n",
      " 14.07   5.197  5.43   8.34   6.042  8.079  3.508 10.704  4.462 26.211\n",
      "  4.58  13.852  4.56  12.305 21.699  2.999  6.2    4.364  3.482  5.261\n",
      "  6.683  2.64   2.74   6.862  4.902  3.73   5.7    3.42  15.89   3.44\n",
      " 58.46   6.03   4.42  36.94  10.555 16.635  4.328 41.611 22.033  3.188\n",
      "  9.669 28.677 10.395  4.172 14.649  2.54  51.814 12.162 16.582 41.894\n",
      " 30.212 24.887 30.13   8.396  9.208  2.432 18.2    8.808  3.012  6.524\n",
      " 10.491 10.949 12.548  5.636  4.713  5.75   8.15   7.01  11.91   3.33\n",
      "  5.73   2.82  19.91 ]\n",
      "===============\n",
      "HOMA:[ 0.46740867  0.70689733  1.00965107  0.61272493  0.8053864   0.73208693\n",
      "  0.89078733  1.88320133  0.80154333  1.01383947  0.6674356   1.14543613\n",
      "  0.82727067  1.33        1.06967     1.6         0.59        3.79014433\n",
      "  1.03739367  3.0099796   0.92171933  0.972138    1.203832    0.9067072\n",
      "  1.229214    1.38399733  1.75261107  2.05239     1.513374    1.30042667\n",
      "  3.86978807  2.53493167  1.8404096   5.09185613  0.732193    1.13392913\n",
      "  0.84567693  1.4066068   1.30539453  0.72755813  1.1006464   3.262364\n",
      "  1.08963767  1.245642    2.098344    1.341324    1.8732508   0.519184\n",
      "  2.3498848   1.0566016   7.111918    0.96027333  3.4851632   0.832352\n",
      "  2.85311933  4.9242264   0.6879706   1.55992     1.0011016   0.79018187\n",
      "  1.23282767  1.84629013  0.507936    0.69614267  1.65877413  1.4026256\n",
      "  0.79125733  1.37788     0.742368    4.468268    0.78065067 15.28534133\n",
      "  1.56177     1.14478     7.83620533  2.62960233  3.775036    1.09960053\n",
      " 20.6307338   5.27176247  0.60550747  2.38502     7.0029234   2.871792\n",
      "  1.00851147  3.071407    0.56388    25.05034187  5.9699204   5.68541507\n",
      " 13.22733227  4.45899333  6.4834952   8.22598307  9.73600733  1.44970933\n",
      "  2.2485936   0.61789013  4.66890667  2.3464512   0.6538048   1.43223547\n",
      "  2.5101466   2.24162527  2.94041467  1.86288587  1.046286    1.30486667\n",
      "  2.63353667  2.62828267  3.495982    0.755688    1.1174      1.370998\n",
      "  0.570392    6.777364  ]\n",
      "===============\n",
      "Leptin:[ 8.8071  8.8438 17.9393  9.8827  6.6994  6.8317  6.964   4.311   4.47\n",
      " 17.127  14.57   35.59   20.45    8.88   15.26   14.09   26.65   30.7729\n",
      " 21.2117 49.3727 15.1248 28.7502 45.6196 39.2134 12.331  39.9802 46.6401\n",
      " 45.9624 50.6094 10.2809 74.7069 27.1841 68.5102 31.2128 20.092  21.9033\n",
      " 16.2247 83.4821 24.2998 21.7863 28.562  35.891  10.39   15.145  56.502\n",
      " 24.846  65.926   6.633  45.272   7.85   21.778  13.74    7.6476  7.7529\n",
      " 11.2406 16.7353 19.0826  9.6994 11.0816  9.8648  8.438  32.58    6.3339\n",
      "  8.0163 14.9037 17.9973  8.6874 12.1905 12.87   13.08    7.65   18.16\n",
      "  9.62   21.78   10.16    9.8    37.2234 25.7816 47.647  44.7059 17.022\n",
      " 38.8066 46.076  19.0653 12.2617 26.5166 15.5325 70.8824 18.1314 22.8884\n",
      " 31.0385 31.6453 29.2739 42.3914 37.843  51.3387 12.6757 14.3224 53.4997\n",
      " 14.7485 31.1233 14.9084 44.0217 26.8081 33.1612 41.4064 23.8479 18.69\n",
      " 17.87   50.53   89.27   54.68   12.45   61.48   24.96   90.28  ]\n",
      "===============\n",
      "Adiponectin:[ 9.7024    5.429285 22.43204   7.16956   4.81924  13.67975   5.589865\n",
      " 13.25132  10.358725 11.57899  13.11     26.72     23.67     36.06\n",
      " 17.95     20.32     38.04      7.780255  5.46262   5.1       8.6\n",
      "  7.64276   6.209635  9.048185  9.73138   4.617125  4.667645 10.35526\n",
      "  6.966895  5.065915  7.53955  20.03      4.7942    8.300955  3.19209\n",
      "  2.19428   4.267105  6.796985  8.12555   7.36996   9.34663   9.000805\n",
      " 11.78796   8.13      7.652055  3.74122  10.567295  8.2863    7.9317\n",
      "  4.935635  9.75326  21.056625  8.237405  8.412175 21.823745  8.462915\n",
      "  8.574655  5.80762  11.236235  4.77192   4.138025  3.886145  9.349775\n",
      "  4.230105  4.294705  3.70523   4.783985 18.55     20.37     16.67\n",
      " 16.1      12.76     17.86      9.76      6.420295 11.018455 12.71896\n",
      "  5.357135 13.494865 16.44048  10.636525 21.57      5.4861    6.695585\n",
      "  7.28287  10.22231   7.901685  4.104105 10.26266   6.160995  9.92365\n",
      "  6.26854  10.79394   8.40443  10.73174   5.47817   6.78387   1.65602\n",
      "  5.288025  7.65222   8.42996   3.71009   2.78491   2.36495   3.335665\n",
      "  6.644245  9.16     11.9      10.06      8.01     12.1      21.42\n",
      " 22.54     33.75     14.11    ]\n",
      "===============\n",
      "Resistin:[ 7.99585  4.06405  9.27715 12.766   10.57635 10.3176  12.9361   5.1042\n",
      "  6.28445  7.0913   6.92     4.58     5.14     6.85     9.35     7.64\n",
      "  3.32    13.68392  6.70188 17.10223  9.1539   5.62592 24.6033  16.43706\n",
      " 10.19299  8.70448 11.78388 23.3819  22.03703 15.72187 22.32024 10.26309\n",
      " 21.44366  6.71026 10.37518  4.2075   3.29175 82.1     20.2535  17.2615\n",
      "  8.04375  8.4156   7.5767  11.78796  4.2989   6.7052   4.49685  4.6638\n",
      "  4.53     9.6135   8.49395 11.774   23.03408 28.0323  23.1177  12.06534\n",
      " 17.37615 13.74244  5.57055 10.69548 15.73606 15.69876 22.94254 11.55492\n",
      "  8.2049   5.2633  10.34455 13.91245 13.56     4.62     7.84     5.31\n",
      "  3.21     4.82     5.68    16.1      7.16514 38.6531  24.3701  27.8325\n",
      " 31.6904  29.5583  10.15726 42.7447  53.6717  19.46324 16.11032 55.2153\n",
      " 53.6308  13.97399 17.55503 19.94687 24.24591  5.768   11.50005 20.76801\n",
      " 23.03306 26.0136  49.24184 16.48508 18.35574 14.91922 20.4685  14.76966\n",
      "  9.9542   6.89235 15.55625  8.89     4.19    11.73     5.06    10.96\n",
      "  7.32    10.33     3.27     4.35   ]\n",
      "===============\n",
      "MCP.1:[ 417.114  468.786  554.697  928.22   773.92   530.41  1256.083  280.694\n",
      "  136.855  318.302  354.6    174.8    313.73   632.22   165.02    63.61\n",
      "  191.72   444.395  252.449  588.46   534.224  572.783  904.981  733.797\n",
      " 1227.91   586.173  887.16  1102.11   667.928  581.313  864.968  695.754\n",
      "  358.624  960.246  473.859  585.307  634.602  263.499  378.996  618.272\n",
      "  698.789  377.227  335.393  270.142  200.976  225.88   206.802  209.749\n",
      "  215.769  232.006   45.843  488.829  552.444  382.955  573.63   481.949\n",
      "  321.919  448.799   90.6    703.973  199.055  713.239  737.672  359.232\n",
      "  355.31   518.586  635.049  395.976  301.21   220.66   193.87   244.75\n",
      "  513.66   195.94   312.     806.724  483.377  775.322 1698.44   783.796\n",
      "  910.489  426.175  738.034  799.898 1041.843 1078.359  923.886  638.261\n",
      "  994.316  764.667  656.393  396.021  602.486  407.206  293.123  256.001\n",
      "  353.568  572.401  269.487  396.648  232.018  655.834  788.902  621.273\n",
      "  209.19   198.4     99.45   218.28   268.23   330.16   314.05   392.46\n",
      "   90.09 ]\n",
      "===============\n",
      "Classification:[1 2]\n"
     ]
    }
   ],
   "source": [
    "#check the unique values in the all variables\n",
    "categorical_val=[]\n",
    "continuous_val=[]\n",
    "\n",
    "for column in df.columns:\n",
    "    print(\"===============\")\n",
    "    print(f\"{column}:{df[column].unique()}\")\n",
    "    if len(df[column].unique())<=10:\n",
    "        categorical_val.append(column)\n",
    "    else:\n",
    "        continuous_val.append(column)"
   ]
  },
  {
   "cell_type": "markdown",
   "id": "incoming-thunder",
   "metadata": {},
   "source": [
    "### 4. Feature Engineering"
   ]
  },
  {
   "cell_type": "code",
   "execution_count": 23,
   "id": "entitled-potato",
   "metadata": {},
   "outputs": [],
   "source": [
    "#Since there are no categorical variables except output variable, we don't need to handle variables"
   ]
  },
  {
   "cell_type": "markdown",
   "id": "convertible-mortality",
   "metadata": {},
   "source": [
    "### 5. Feature Selection"
   ]
  },
  {
   "cell_type": "code",
   "execution_count": 21,
   "id": "hollywood-while",
   "metadata": {},
   "outputs": [
    {
     "data": {
      "text/plain": [
       "<AxesSubplot:>"
      ]
     },
     "execution_count": 21,
     "metadata": {},
     "output_type": "execute_result"
    },
    {
     "data": {
      "image/png": "[encoded data removed]",
      "text/plain": [
       "<Figure size 1080x1080 with 2 Axes>"
      ]
     },
     "metadata": {
      "needs_background": "light"
     },
     "output_type": "display_data"
    }
   ],
   "source": [
    "#From above data it is clear that except target variable, no other variables has categorical values.\n",
    "#Now, will check the correlation between each variables with the help of heat map\n",
    "corr_matrix=df.corr()\n",
    "fig,ax=plt.subplots(figsize=(15,15))\n",
    "\n",
    "sns.heatmap(corr_matrix,annot=True,ax=ax,linewidths=0.5)"
   ]
  },
  {
   "cell_type": "markdown",
   "id": "alert-lawrence",
   "metadata": {},
   "source": [
    "Observations:\n",
    "\n",
    "1. Glucose, insulin, HOMA, Resistin are positively correlated with output.\n",
    "2. Age, BMI, Adiponectin are negativiely correlated with the output.\n",
    "3. Leption&BMI, HOMA&Glucose, Insulin&Glucose are highly correlated with each other.\n"
   ]
  },
  {
   "cell_type": "markdown",
   "id": "acute-movie",
   "metadata": {},
   "source": [
    "I will choose Age, BMI, Adiponectin, Glucose, insulin, Resistin as features for the model training"
   ]
  },
  {
   "cell_type": "code",
   "execution_count": 36,
   "id": "valuable-velvet",
   "metadata": {},
   "outputs": [],
   "source": [
    "#will pre-process the continuous variables for better performance\n",
    "from sklearn.preprocessing import StandardScaler\n",
    "sc=StandardScaler()\n",
    "col_to_scale=['Age','BMI','Adiponectin','Glucose','Insulin','Resistin']\n",
    "df[col_to_scale]=sc.fit_transform(df[col_to_scale])\n"
   ]
  },
  {
   "cell_type": "code",
   "execution_count": 37,
   "id": "professional-territory",
   "metadata": {},
   "outputs": [],
   "source": [
    "#Let's split our data into training (70%) and testing (30%) before the model training\n",
    "from sklearn.model_selection import train_test_split"
   ]
  },
  {
   "cell_type": "code",
   "execution_count": 38,
   "id": "flexible-eagle",
   "metadata": {},
   "outputs": [],
   "source": [
    "x=df[['Age','BMI','Adiponectin','Glucose','Insulin','Resistin']]\n",
    "y=df['Classification']"
   ]
  },
  {
   "cell_type": "code",
   "execution_count": 39,
   "id": "sunrise-condition",
   "metadata": {},
   "outputs": [
    {
     "data": {
      "text/plain": [
       "((81, 6), (35, 6), (81,), (35,))"
      ]
     },
     "execution_count": 39,
     "metadata": {},
     "output_type": "execute_result"
    }
   ],
   "source": [
    "x_train,x_test,y_train,y_test=train_test_split(x,y,test_size=0.3,random_state=10)\n",
    "x_train.shape,x_test.shape,y_train.shape,y_test.shape"
   ]
  },
  {
   "cell_type": "code",
   "execution_count": 40,
   "id": "focal-fruit",
   "metadata": {},
   "outputs": [],
   "source": [
    "#I will use simple Logistic Regression Algorithm"
   ]
  },
  {
   "cell_type": "code",
   "execution_count": 41,
   "id": "distributed-deposit",
   "metadata": {},
   "outputs": [],
   "source": [
    "#Helper function for printing the classficiation report"
   ]
  },
  {
   "cell_type": "code",
   "execution_count": 42,
   "id": "exceptional-prison",
   "metadata": {},
   "outputs": [],
   "source": [
    "from sklearn import *\n",
    "from sklearn.metrics import accuracy_score,confusion_matrix,classification_report\n",
    "\n",
    "def print_Score(clf,x_train,x_test,y_train,y_test,train=True):\n",
    "    if train:\n",
    "        pred=clf.predict(x_train)\n",
    "        clf_report=pd.DataFrame(classification_report(y_train,pred,output_dict=True))\n",
    "        print(\"Train Result:\\n===============\")\n",
    "        print(f\"Accuracy Score:{accuracy_score(y_train,pred)*100:.2f}%\")\n",
    "        print(\"---------------------------------\")\n",
    "        print(f\"Classification Report:\\n{clf_report}\")\n",
    "        print(\"-----------------------------------\")\n",
    "        print(f\"Confusion Matrix:\\n{confusion_matrix(y_train,pred)}\\n\")\n",
    "    elif train==False:\n",
    "        pred=clf.predict(x_test)\n",
    "        clf_report=pd.DataFrame(classification_report(y_test,pred,output_dict=True))\n",
    "        print(\"Test Result:\\n===============\")\n",
    "        print(f\"Accuracy Score:{accuracy_score(y_test,pred)*100:.2f}%\")\n",
    "        print(\"---------------------------------\")\n",
    "        print(f\"Classification Report:\\n{clf_report}\")\n",
    "        print(\"---------------------------------\")\n",
    "        print(f\"Confusion Matrix:\\n{confusion_matrix(y_test,pred)}\\n\")\n"
   ]
  },
  {
   "cell_type": "code",
   "execution_count": 43,
   "id": "standard-mainstream",
   "metadata": {},
   "outputs": [
    {
     "data": {
      "text/html": [
       "<div>\n",
       "<style scoped>\n",
       "    .dataframe tbody tr th:only-of-type {\n",
       "        vertical-align: middle;\n",
       "    }\n",
       "\n",
       "    .dataframe tbody tr th {\n",
       "        vertical-align: top;\n",
       "    }\n",
       "\n",
       "    .dataframe thead th {\n",
       "        text-align: right;\n",
       "    }\n",
       "</style>\n",
       "<table border=\"1\" class=\"dataframe\">\n",
       "  <thead>\n",
       "    <tr style=\"text-align: right;\">\n",
       "      <th></th>\n",
       "      <th>Age</th>\n",
       "      <th>BMI</th>\n",
       "      <th>Glucose</th>\n",
       "      <th>Insulin</th>\n",
       "      <th>HOMA</th>\n",
       "      <th>Leptin</th>\n",
       "      <th>Adiponectin</th>\n",
       "      <th>Resistin</th>\n",
       "      <th>MCP.1</th>\n",
       "      <th>Classification</th>\n",
       "    </tr>\n",
       "  </thead>\n",
       "  <tbody>\n",
       "    <tr>\n",
       "      <th>0</th>\n",
       "      <td>-0.579794</td>\n",
       "      <td>-0.816675</td>\n",
       "      <td>-1.239222</td>\n",
       "      <td>-0.728739</td>\n",
       "      <td>0.467409</td>\n",
       "      <td>8.8071</td>\n",
       "      <td>-0.070222</td>\n",
       "      <td>-0.545517</td>\n",
       "      <td>417.114</td>\n",
       "      <td>1</td>\n",
       "    </tr>\n",
       "    <tr>\n",
       "      <th>1</th>\n",
       "      <td>1.601821</td>\n",
       "      <td>-1.378751</td>\n",
       "      <td>-0.258299</td>\n",
       "      <td>-0.688038</td>\n",
       "      <td>0.706897</td>\n",
       "      <td>8.8438</td>\n",
       "      <td>-0.697350</td>\n",
       "      <td>-0.864214</td>\n",
       "      <td>468.786</td>\n",
       "      <td>1</td>\n",
       "    </tr>\n",
       "    <tr>\n",
       "      <th>2</th>\n",
       "      <td>1.539489</td>\n",
       "      <td>-0.891764</td>\n",
       "      <td>-0.302887</td>\n",
       "      <td>-0.550073</td>\n",
       "      <td>1.009651</td>\n",
       "      <td>17.9393</td>\n",
       "      <td>1.797998</td>\n",
       "      <td>-0.441660</td>\n",
       "      <td>554.697</td>\n",
       "      <td>1</td>\n",
       "    </tr>\n",
       "    <tr>\n",
       "      <th>3</th>\n",
       "      <td>0.666843</td>\n",
       "      <td>-1.243303</td>\n",
       "      <td>-0.927110</td>\n",
       "      <td>-0.676965</td>\n",
       "      <td>0.612725</td>\n",
       "      <td>9.8827</td>\n",
       "      <td>-0.441945</td>\n",
       "      <td>-0.158867</td>\n",
       "      <td>928.220</td>\n",
       "      <td>1</td>\n",
       "    </tr>\n",
       "    <tr>\n",
       "      <th>4</th>\n",
       "      <td>1.788816</td>\n",
       "      <td>-1.294601</td>\n",
       "      <td>-0.258299</td>\n",
       "      <td>-0.644743</td>\n",
       "      <td>0.805386</td>\n",
       "      <td>6.6994</td>\n",
       "      <td>-0.786881</td>\n",
       "      <td>-0.336352</td>\n",
       "      <td>773.920</td>\n",
       "      <td>1</td>\n",
       "    </tr>\n",
       "  </tbody>\n",
       "</table>\n",
       "</div>"
      ],
      "text/plain": [
       "        Age       BMI   Glucose   Insulin      HOMA   Leptin  Adiponectin  \\\n",
       "0 -0.579794 -0.816675 -1.239222 -0.728739  0.467409   8.8071    -0.070222   \n",
       "1  1.601821 -1.378751 -0.258299 -0.688038  0.706897   8.8438    -0.697350   \n",
       "2  1.539489 -0.891764 -0.302887 -0.550073  1.009651  17.9393     1.797998   \n",
       "3  0.666843 -1.243303 -0.927110 -0.676965  0.612725   9.8827    -0.441945   \n",
       "4  1.788816 -1.294601 -0.258299 -0.644743  0.805386   6.6994    -0.786881   \n",
       "\n",
       "   Resistin    MCP.1  Classification  \n",
       "0 -0.545517  417.114               1  \n",
       "1 -0.864214  468.786               1  \n",
       "2 -0.441660  554.697               1  \n",
       "3 -0.158867  928.220               1  \n",
       "4 -0.336352  773.920               1  "
      ]
     },
     "execution_count": 43,
     "metadata": {},
     "output_type": "execute_result"
    }
   ],
   "source": [
    "df.head()"
   ]
  },
  {
   "cell_type": "code",
   "execution_count": 46,
   "id": "chief-veteran",
   "metadata": {},
   "outputs": [
    {
     "data": {
      "text/plain": [
       "LogisticRegression(solver='liblinear')"
      ]
     },
     "execution_count": 46,
     "metadata": {},
     "output_type": "execute_result"
    }
   ],
   "source": [
    "#Let's train the model\n",
    "from sklearn.linear_model import LogisticRegression\n",
    "lr_clf=LogisticRegression(solver='liblinear')\n",
    "lr_clf.fit(x_train,y_train)"
   ]
  },
  {
   "cell_type": "code",
   "execution_count": 47,
   "id": "upper-receiver",
   "metadata": {},
   "outputs": [
    {
     "name": "stdout",
     "output_type": "stream",
     "text": [
      "Train Result:\n",
      "===============\n",
      "Accuracy Score:74.07%\n",
      "---------------------------------\n",
      "Classification Report:\n",
      "                   1          2  accuracy  macro avg  weighted avg\n",
      "precision   0.692308   0.785714  0.740741   0.739011      0.744200\n",
      "recall      0.750000   0.733333  0.740741   0.741667      0.740741\n",
      "f1-score    0.720000   0.758621  0.740741   0.739310      0.741456\n",
      "support    36.000000  45.000000  0.740741  81.000000     81.000000\n",
      "-----------------------------------\n",
      "Confusion Matrix:\n",
      "[[27  9]\n",
      " [12 33]]\n",
      "\n",
      "Test Result:\n",
      "===============\n",
      "Accuracy Score:82.86%\n",
      "---------------------------------\n",
      "Classification Report:\n",
      "                 1          2  accuracy  macro avg  weighted avg\n",
      "precision   0.8125   0.842105  0.828571   0.827303      0.828571\n",
      "recall      0.8125   0.842105  0.828571   0.827303      0.828571\n",
      "f1-score    0.8125   0.842105  0.828571   0.827303      0.828571\n",
      "support    16.0000  19.000000  0.828571  35.000000     35.000000\n",
      "---------------------------------\n",
      "Confusion Matrix:\n",
      "[[13  3]\n",
      " [ 3 16]]\n",
      "\n"
     ]
    }
   ],
   "source": [
    "#will print the classification report with the help of print_Score function\n",
    "print_Score(lr_clf,x_train,x_test,y_train,y_test,train=True)\n",
    "print_Score(lr_clf,x_train,x_test,y_train,y_test,train=False)"
   ]
  },
  {
   "cell_type": "code",
   "execution_count": 48,
   "id": "fresh-backup",
   "metadata": {},
   "outputs": [],
   "source": [
    "#Now, I will try another Machine Learning algorithm to improve the accuracy of model \n",
    "#Naive Bayes classifier algorithm "
   ]
  },
  {
   "cell_type": "code",
   "execution_count": 49,
   "id": "voluntary-responsibility",
   "metadata": {},
   "outputs": [],
   "source": [
    "from sklearn.naive_bayes import GaussianNB"
   ]
  },
  {
   "cell_type": "code",
   "execution_count": 50,
   "id": "activated-tiger",
   "metadata": {},
   "outputs": [],
   "source": [
    "def print_accuracy(clf,x_train,x_test,y_train,y_test,train=True):\n",
    "    if train:\n",
    "        pred=clf.predict(x_train)\n",
    "        print(f\"Accuracy Score:{accuracy_score(y_train,pred)*100:.2f}%\")\n",
    "    elif train==False:\n",
    "        pred=clf.predict(x_test)\n",
    "        print(f\"Accuracy Score:{accuracy_score(y_test,pred)*100:.2f}%\")"
   ]
  },
  {
   "cell_type": "code",
   "execution_count": 52,
   "id": "productive-sally",
   "metadata": {},
   "outputs": [
    {
     "data": {
      "text/plain": [
       "GaussianNB()"
      ]
     },
     "execution_count": 52,
     "metadata": {},
     "output_type": "execute_result"
    }
   ],
   "source": [
    "#Let' train the model with Naive Bayes classifier\n",
    "gnb=GaussianNB()\n",
    "gnb.fit(x_train,y_train)"
   ]
  },
  {
   "cell_type": "code",
   "execution_count": 54,
   "id": "electoral-chess",
   "metadata": {},
   "outputs": [
    {
     "name": "stdout",
     "output_type": "stream",
     "text": [
      "Accuracy Score:69.14%\n",
      "Accuracy Score:71.43%\n"
     ]
    }
   ],
   "source": [
    "print_accuracy(gnb,x_train,x_test,y_train,y_test,train=True)\n",
    "print_accuracy(gnb,x_train,x_test,y_train,y_test,train=False)"
   ]
  },
  {
   "cell_type": "markdown",
   "id": "reverse-variance",
   "metadata": {},
   "source": [
    "Note: After comparing both the algorithms, we can understand that Logistic Regression is performing well with more accuracy than Naive Bayes classifier. So I will use Logistic Regression for the deployment process"
   ]
  },
  {
   "cell_type": "code",
   "execution_count": 55,
   "id": "stone-florida",
   "metadata": {},
   "outputs": [],
   "source": [
    "#Now, I will create pickle file to use the model in deployment process"
   ]
  },
  {
   "cell_type": "code",
   "execution_count": 56,
   "id": "usual-north",
   "metadata": {},
   "outputs": [],
   "source": [
    "import pickle\n",
    "pickle_out=open('BreastCancer.pkl','wb')\n",
    "pickle.dump(lr_clf,pickle_out)\n",
    "pickle_out.close()"
   ]
  },
  {
   "cell_type": "code",
   "execution_count": null,
   "id": "prostate-tsunami",
   "metadata": {},
   "outputs": [],
   "source": []
  }
 ],
 "metadata": {
  "kernelspec": {
   "display_name": "Python 3",
   "language": "python",
   "name": "python3"
  },
  "language_info": {
   "codemirror_mode": {
    "name": "ipython",
    "version": 3
   },
   "file_extension": ".py",
   "mimetype": "text/x-python",
   "name": "python",
   "nbconvert_exporter": "python",
   "pygments_lexer": "ipython3",
   "version": "3.9.1"
  }
 },
 "nbformat": 4,
 "nbformat_minor": 5
}
